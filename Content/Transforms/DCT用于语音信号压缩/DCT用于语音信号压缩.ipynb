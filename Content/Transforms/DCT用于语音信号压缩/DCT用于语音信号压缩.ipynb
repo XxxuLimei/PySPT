{
 "cells": [
  {
   "cell_type": "markdown",
   "metadata": {},
   "source": [
    "# 用于语音信号压缩的离散变换"
   ]
  },
  {
   "cell_type": "markdown",
   "metadata": {},
   "source": [
    "此示例演示了如何使用离散余弦变换(DCT)压缩语音信号。\n",
    "加载一个包含“强”这个词的文件，这个词是由一个女人和一个男人说的。信号在8 kHz处采样。\n",
    "利用离散余弦变换对女性语音信号进行压缩。将信号分解为DCT基向量。\n",
    "分解中的术语和信号中的样本一样多。矢量展开系数X测量每个组件中存储了多少能量。将系数从最大到最小排序。\n",
    "并且找出多少DCT系数代表99.9%的能量在信号中。将数字表示为总数的百分比。\n",
    "分解中的术语和信号中的样本一样多。矢量展开系数X测量每个组件中存储了多少能量。将系数从最大到最小排序。"
   ]
  },
  {
   "cell_type": "code",
   "execution_count": 2,
   "metadata": {},
   "outputs": [],
   "source": [
    "from scipy.io import loadmat\n",
    "from scipy.fft import dct,idct\n",
    "import numpy as np\n",
    "import matplotlib.pyplot as plt"
   ]
  },
  {
   "cell_type": "code",
   "execution_count": 3,
   "metadata": {},
   "outputs": [],
   "source": [
    "m = loadmat(\"strong.mat\")\n",
    "x = m['her']\n",
    "x = x.reshape(-1,1)\n",
    "X = dct(x,norm='ortho')\n",
    "X = X.reshape(len(X))\n",
    "XA = abs(X)\n",
    "XX = sorted(XA,reverse = True)\n",
    "ind = sorted(range(len(X)), key = lambda k: XA[k])\n",
    "need = 1\n",
    "while np.linalg.norm(X[ind[1:need+1]])/np.linalg.norm(X) < 0.999:\n",
    "  need = need + 1\n",
    "xpc = need/len(X)*100\n",
    "X[ind[need+1:]] = 0\n",
    "xx = idct(X)"
   ]
  },
  {
   "cell_type": "code",
   "execution_count": 4,
   "metadata": {},
   "outputs": [
    {
     "ename": "AttributeError",
     "evalue": "'AxesSubplot' object has no attribute 'set_legend'",
     "output_type": "error",
     "traceback": [
      "\u001b[1;31m---------------------------------------------------------------------------\u001b[0m",
      "\u001b[1;31mAttributeError\u001b[0m                            Traceback (most recent call last)",
      "\u001b[1;32m~\\AppData\\Local\\Temp/ipykernel_22144/2588449207.py\u001b[0m in \u001b[0;36m<module>\u001b[1;34m\u001b[0m\n\u001b[0;32m      3\u001b[0m \u001b[0max\u001b[0m\u001b[1;33m.\u001b[0m\u001b[0mplot\u001b[0m\u001b[1;33m(\u001b[0m\u001b[0mxx\u001b[0m\u001b[1;33m)\u001b[0m\u001b[1;33m\u001b[0m\u001b[1;33m\u001b[0m\u001b[0m\n\u001b[0;32m      4\u001b[0m \u001b[0max\u001b[0m\u001b[1;33m.\u001b[0m\u001b[0mplot\u001b[0m\u001b[1;33m(\u001b[0m\u001b[0mx\u001b[0m\u001b[1;33m-\u001b[0m\u001b[0mxx\u001b[0m\u001b[1;33m)\u001b[0m\u001b[1;33m\u001b[0m\u001b[1;33m\u001b[0m\u001b[0m\n\u001b[1;32m----> 5\u001b[1;33m \u001b[0max\u001b[0m\u001b[1;33m.\u001b[0m\u001b[0mset_legend\u001b[0m\u001b[1;33m(\u001b[0m\u001b[1;33m[\u001b[0m\u001b[1;34m\"Original\"\u001b[0m\u001b[1;33m,\u001b[0m\u001b[1;34m\"45% of coeffs\"\u001b[0m\u001b[1;33m,\u001b[0m\u001b[1;34m\"Differences\"\u001b[0m\u001b[1;33m]\u001b[0m\u001b[1;33m)\u001b[0m\u001b[1;33m\u001b[0m\u001b[1;33m\u001b[0m\u001b[0m\n\u001b[0m\u001b[0;32m      6\u001b[0m \u001b[1;31m#fig.savefig('./program1.png',dpi=500)\u001b[0m\u001b[1;33m\u001b[0m\u001b[1;33m\u001b[0m\u001b[0m\n",
      "\u001b[1;31mAttributeError\u001b[0m: 'AxesSubplot' object has no attribute 'set_legend'"
     ]
    },
    {
     "data": {
      "image/png": "[encoded data removed]",
      "text/plain": [
       "<Figure size 432x288 with 1 Axes>"
      ]
     },
     "metadata": {
      "needs_background": "light"
     },
     "output_type": "display_data"
    }
   ],
   "source": [
    "fig,ax = plt.subplots()\n",
    "ax.plot(x)\n",
    "ax.plot(xx)\n",
    "ax.plot(x-xx)\n",
    "ax.set_legend([\"Original\",\"45% of coeffs\",\"Differences\"])\n",
    "#fig.savefig('./program1.png',dpi=500)"
   ]
  },
  {
   "cell_type": "markdown",
   "metadata": {},
   "source": [
    "重复分析男性的声音。找出多少DCT系数代表99.9%的能量，并表示数字为一个百分比的全部。\n",
    "将其余的系数设置为零，并从压缩版本重构信号。绘制原始信号，其重构，以及两者之间的区别。"
   ]
  },
  {
   "cell_type": "code",
   "execution_count": null,
   "metadata": {},
   "outputs": [],
   "source": [
    "y = m['him']\n",
    "y = y.reshape(-1,1)\n",
    "Y = dct(y,norm = 'ortho')\n",
    "Y = Y.reshape(len(Y))\n",
    "YA = abs(Y)\n",
    "YY = sorted(YA,reverse = True)\n",
    "ind = sorted(range(len(Y)), key = lambda k: YA[k])\n",
    "need = 1\n",
    "while np.linalg.norm(Y[ind[1:need+1]])/np.linalg.norm(Y) < 0.999:\n",
    "  need = need+1\n",
    "ypc = need/len(Y)*100\n",
    "Y[ind[need+1:]] = 0\n",
    "yy = idct(Y)\n",
    "\n",
    "fig,ax = plt.subplots()\n",
    "ax.plot(y)\n",
    "ax.plot(yy)\n",
    "ax.plot(y-yy)\n",
    "ax.legend([\"Original\",\"57% of coeffs\",\"Differences\"])\n",
    "fig.savefig('./program2.png',dpi=500)"
   ]
  },
  {
   "cell_type": "markdown",
   "metadata": {},
   "source": [
    "在这两种情况下，大约一半的DCT系数足以合理地重建语音信号。如果所需能量分数为99%，所需系数的数目将减少到总能量的20%左右。重建的结果是低劣的，但仍然是可理解的。\n",
    "对这些和其他样本的分析表明，需要更多的系数来表征男人的声音，而不是女人的声音。"
   ]
  }
 ],
 "metadata": {
  "kernelspec": {
   "display_name": "Python 3 (ipykernel)",
   "language": "python",
   "name": "python3"
  },
  "language_info": {
   "codemirror_mode": {
    "name": "ipython",
    "version": 3
   },
   "file_extension": ".py",
   "mimetype": "text/x-python",
   "name": "python",
   "nbconvert_exporter": "python",
   "pygments_lexer": "ipython3",
   "version": "3.9.7"
  },
  "toc": {
   "base_numbering": 1,
   "nav_menu": {},
   "number_sections": true,
   "sideBar": true,
   "skip_h1_title": false,
   "title_cell": "Table of Contents",
   "title_sidebar": "Contents",
   "toc_cell": false,
   "toc_position": {},
   "toc_section_display": true,
   "toc_window_display": false
  }
 },
 "nbformat": 4,
 "nbformat_minor": 2
}
